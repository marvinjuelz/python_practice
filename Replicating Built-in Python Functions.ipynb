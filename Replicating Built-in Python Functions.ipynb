{
    "cells": [
        {
            "cell_type": "markdown",
            "metadata": {
                "collapsed": true
            },
            "source": "### Creating my own *Len* function"
        },
        {
            "cell_type": "code",
            "execution_count": 17,
            "metadata": {},
            "outputs": [],
            "source": "def input_length(inputr):\n    \"\"\"\"  \n    Custom Length Function\n    \"\"\"\n    listr=[]\n    for i,x in enumerate(inputr):\n        listr.append(i)\n    print(listr[-1]+1)"
        },
        {
            "cell_type": "code",
            "execution_count": 19,
            "metadata": {},
            "outputs": [
                {
                    "name": "stdout",
                    "output_type": "stream",
                    "text": "4\n"
                }
            ],
            "source": "input_length(\"test\")"
        },
        {
            "cell_type": "markdown",
            "metadata": {},
            "source": "### Creating my own *Sum* function"
        },
        {
            "cell_type": "code",
            "execution_count": 20,
            "metadata": {},
            "outputs": [],
            "source": "##Here we will replicate the sum function using the while loop inside a defined function\ndef sum_input(inputr2):\n    \"\"\"\n    Custom Sum Function\n    \"\"\"\n    i=0\n    result=0\n    while (i<len(inputr2)):\n        result=inputr2[i]+result\n        i=i+1\n    return result"
        },
        {
            "cell_type": "code",
            "execution_count": 21,
            "metadata": {},
            "outputs": [
                {
                    "data": {
                        "text/plain": "8"
                    },
                    "execution_count": 21,
                    "metadata": {},
                    "output_type": "execute_result"
                }
            ],
            "source": "#testing the function\nSumList = [2,4,2]\nsum_input(SumList)"
        }
    ],
    "metadata": {
        "kernelspec": {
            "display_name": "Python 3.6",
            "language": "python",
            "name": "python3"
        },
        "language_info": {
            "codemirror_mode": {
                "name": "ipython",
                "version": 3
            },
            "file_extension": ".py",
            "mimetype": "text/x-python",
            "name": "python",
            "nbconvert_exporter": "python",
            "pygments_lexer": "ipython3",
            "version": "3.6.9"
        }
    },
    "nbformat": 4,
    "nbformat_minor": 1
}